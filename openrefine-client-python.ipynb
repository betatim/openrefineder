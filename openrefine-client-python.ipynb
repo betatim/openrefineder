{
 "cells": [
  {
   "cell_type": "markdown",
   "metadata": {},
   "source": [
    "# Using the openrefine-client in a Python 2 environment"
   ]
  },
  {
   "cell_type": "markdown",
   "metadata": {},
   "source": [
    "## Preparations\n",
    "\n",
    "First we need an OpenRefine server running and the openrefine-client installed."
   ]
  },
  {
   "cell_type": "markdown",
   "metadata": {},
   "source": [
    "### Option 1: binder\n",
    "\n",
    "This [binder](https://github.com/betatim/openrefineder) has OpenRefine, the openrefine-client and a Jupyter server proxy preinstalled. We need to start the OpenRefine server proxy by opening the urlpath `/openrefine`. It is a bit complicated doing it directly from this notebook but the following commands will do that for you. This may take up to 30 seconds."
   ]
  },
  {
   "cell_type": "code",
   "execution_count": 1,
   "metadata": {},
   "outputs": [
    {
     "data": {
      "text/html": [
       "<a href=\"/user/felixlohmeier-openrefineder-qxa2sf4m/openrefine?token=KW0tAWsWS0SaphF5IR8ejw\">Click here to open OpenRefine</a>"
      ],
      "text/plain": [
       "<IPython.core.display.HTML object>"
      ]
     },
     "metadata": {},
     "output_type": "display_data"
    }
   ],
   "source": [
    "import os\n",
    "if 'openrefineder' in os.environ['HOSTNAME']:\n",
    "    notebook = !jupyter notebook list | grep -o -E 'http\\S+'\n",
    "    openrefine_url = notebook[0].replace('?token', 'openrefine?token')\n",
    "    from urllib import urlopen\n",
    "    from time import sleep\n",
    "    for i in range(30):\n",
    "        response = urlopen(openrefine_url).read()\n",
    "        sleep(1)\n",
    "        if 'openrefine' in response:\n",
    "            openrefine_url = openrefine_url.replace('http://0.0.0.0:8888','')\n",
    "            from IPython.core.display import display, HTML\n",
    "            display(HTML('<a href=\"' + openrefine_url + '\">Click here to open OpenRefine</a>'))\n",
    "            break\n",
    "        if i == 30:\n",
    "            print('timeout')"
   ]
  },
  {
   "cell_type": "markdown",
   "metadata": {},
   "source": [
    "### Option 2: Local environment\n",
    "\n",
    "Ensure you have an OpenRefine server running. Then install the OpenRefine client as follows."
   ]
  },
  {
   "cell_type": "markdown",
   "metadata": {},
   "source": [
    "```\n",
    "pip install openrefine-client\n",
    "```"
   ]
  },
  {
   "cell_type": "markdown",
   "metadata": {},
   "source": [
    "## Create a directory\n",
    "\n",
    "We will store some files so it is clearer to use a new folder."
   ]
  },
  {
   "cell_type": "code",
   "execution_count": 2,
   "metadata": {},
   "outputs": [
    {
     "name": "stdout",
     "output_type": "stream",
     "text": [
      "/home/jovyan/20190823_154057\n"
     ]
    }
   ],
   "source": [
    "import os, datetime\n",
    "path = os.path.expanduser('~') + '/' + datetime.datetime.now().strftime('%Y%m%d_%H%M%S')\n",
    "try:\n",
    "    os.mkdir(path)\n",
    "    os.chdir(path)\n",
    "except OSError:\n",
    "    print (\"Creation of the directory %s failed\" % path)\n",
    "else:\n",
    "    print (os.getcwd())"
   ]
  },
  {
   "cell_type": "markdown",
   "metadata": {},
   "source": [
    "## Import module"
   ]
  },
  {
   "cell_type": "code",
   "execution_count": 3,
   "metadata": {},
   "outputs": [],
   "source": [
    "from google.refine import cli"
   ]
  },
  {
   "cell_type": "markdown",
   "metadata": {},
   "source": [
    "## Create project\n",
    "\n",
    "Download sample data"
   ]
  },
  {
   "cell_type": "code",
   "execution_count": 4,
   "metadata": {},
   "outputs": [
    {
     "name": "stdout",
     "output_type": "stream",
     "text": [
      "Download to file duplicates.csv complete\n"
     ]
    }
   ],
   "source": [
    "cli.download('https://git.io/fj5hF','duplicates.csv')"
   ]
  },
  {
   "cell_type": "markdown",
   "metadata": {},
   "source": [
    "Import file into OpenRefine (and store returned project)"
   ]
  },
  {
   "cell_type": "code",
   "execution_count": 5,
   "metadata": {},
   "outputs": [
    {
     "name": "stdout",
     "output_type": "stream",
     "text": [
      "id: 1912905797111\n",
      "rows: 10\n"
     ]
    }
   ],
   "source": [
    "p1 = cli.create('duplicates.csv')"
   ]
  },
  {
   "cell_type": "markdown",
   "metadata": {},
   "source": [
    "## List all projects"
   ]
  },
  {
   "cell_type": "code",
   "execution_count": 6,
   "metadata": {},
   "outputs": [
    {
     "name": "stdout",
     "output_type": "stream",
     "text": [
      " 1912905797111: duplicates\n"
     ]
    }
   ],
   "source": [
    "cli.ls()"
   ]
  },
  {
   "cell_type": "markdown",
   "metadata": {},
   "source": [
    "## Show project metadata"
   ]
  },
  {
   "cell_type": "code",
   "execution_count": 7,
   "metadata": {},
   "outputs": [
    {
     "name": "stdout",
     "output_type": "stream",
     "text": [
      "                  id: 1912905797111\n",
      "                 url: http://127.0.0.1:3333/project?project=1912905797111\n",
      "                name: duplicates\n",
      "            modified: 2019-08-23T15:40:58Z\n",
      "             created: 2019-08-23T15:40:58Z\n",
      "            rowCount: 10\n",
      "importOptionMetadata: [{u'storeEmptyStrings': True, u'fileSource': u'duplicates.csv', u'storeBlankRows': True, u'encoding': u'', u'projectName': u'duplicates', u'processQuotes': True, u'separator': u',', u'trimStrings': False, u'limit': -1, u'storeBlankCellsAsNulls': True, u'guessCellValueTypes': False, u'includeFileSources': False}]\n",
      "          column 001: email\n",
      "          column 002: name\n",
      "          column 003: state\n",
      "          column 004: gender\n",
      "          column 005: purchase\n"
     ]
    }
   ],
   "source": [
    "cli.info(p1.project_id)"
   ]
  },
  {
   "cell_type": "markdown",
   "metadata": {},
   "source": [
    "## Export project to terminal"
   ]
  },
  {
   "cell_type": "code",
   "execution_count": 8,
   "metadata": {},
   "outputs": [
    {
     "name": "stdout",
     "output_type": "stream",
     "text": [
      "email\tname\tstate\tgender\tpurchase\n",
      "danny.baron@example1.com\tDanny Baron\tCA\tM\tTV\n",
      "melanie.white@example2.edu\tMelanie White\tNC\tF\tiPhone\n",
      "danny.baron@example1.com\tD. Baron\tCA\tM\tWinter jacket\n",
      "ben.tyler@example3.org\tBen Tyler\tNV\tM\tFlashlight\n",
      "arthur.duff@example4.com\tArthur Duff\tOR\tM\tDining table\n",
      "danny.baron@example1.com\tDaniel Baron\tCA\tM\tBike\n",
      "jean.griffith@example5.org\tJean Griffith\tWA\tF\tPower drill\n",
      "melanie.white@example2.edu\tMelanie White\tNC\tF\tiPad\n",
      "ben.morisson@example6.org\tBen Morisson\tFL\tM\tAmplifier\n",
      "arthur.duff@example4.com\tArthur Duff\tOR\tM\tNight table\n"
     ]
    }
   ],
   "source": [
    "cli.export(p1.project_id)"
   ]
  },
  {
   "cell_type": "markdown",
   "metadata": {},
   "source": [
    "## Apply rules from json file\n",
    "\n",
    "Download sample json file (the content of this file was previously extracted via Undo/Redo history in the OpenRefine graphical user interface)"
   ]
  },
  {
   "cell_type": "code",
   "execution_count": 9,
   "metadata": {},
   "outputs": [
    {
     "name": "stdout",
     "output_type": "stream",
     "text": [
      "Download to file duplicates-deletion.json complete\n"
     ]
    }
   ],
   "source": [
    "cli.download('https://git.io/fj5ju','duplicates-deletion.json')"
   ]
  },
  {
   "cell_type": "markdown",
   "metadata": {},
   "source": [
    "Apply transformations rules"
   ]
  },
  {
   "cell_type": "code",
   "execution_count": 10,
   "metadata": {
    "scrolled": true
   },
   "outputs": [
    {
     "name": "stdout",
     "output_type": "stream",
     "text": [
      "File duplicates-deletion.json has been successfully applied to project 1912905797111\n"
     ]
    }
   ],
   "source": [
    "cli.apply(p1.project_id, 'duplicates-deletion.json')"
   ]
  },
  {
   "cell_type": "markdown",
   "metadata": {},
   "source": [
    "Export project to terminal again"
   ]
  },
  {
   "cell_type": "code",
   "execution_count": 11,
   "metadata": {
    "scrolled": true
   },
   "outputs": [
    {
     "name": "stdout",
     "output_type": "stream",
     "text": [
      "email\tcount\tname\tstate\tgender\tpurchase\n",
      "arthur.duff@example4.com\t2\tArthur Duff\tOR\tM\tDining table\n",
      "ben.morisson@example6.org\t1\tBen Morisson\tFL\tM\tAmplifier\n",
      "ben.tyler@example3.org\t1\tBen Tyler\tNV\tM\tFlashlight\n",
      "danny.baron@example1.com\t3\tDanny Baron\tCA\tM\tTV\n",
      "jean.griffith@example5.org\t1\tJean Griffith\tWA\tF\tPower drill\n",
      "melanie.white@example2.edu\t2\tMelanie White\tNC\tF\tiPhone\n"
     ]
    }
   ],
   "source": [
    "cli.export(p1.project_id)"
   ]
  },
  {
   "cell_type": "markdown",
   "metadata": {},
   "source": [
    "## Export project to file\n",
    "\n",
    "Export data in Excel (.xls) format"
   ]
  },
  {
   "cell_type": "code",
   "execution_count": 12,
   "metadata": {},
   "outputs": [
    {
     "name": "stdout",
     "output_type": "stream",
     "text": [
      "email\tcount\tname\tstate\tgender\tpurchase\n",
      "arthur.duff@example4.com\t2\tArthur Duff\tOR\tM\tDining table\n",
      "ben.morisson@example6.org\t1\tBen Morisson\tFL\tM\tAmplifier\n",
      "ben.tyler@example3.org\t1\tBen Tyler\tNV\tM\tFlashlight\n",
      "danny.baron@example1.com\t3\tDanny Baron\tCA\tM\tTV\n",
      "jean.griffith@example5.org\t1\tJean Griffith\tWA\tF\tPower drill\n",
      "melanie.white@example2.edu\t2\tMelanie White\tNC\tF\tiPhone\n"
     ]
    }
   ],
   "source": [
    "cli.export(p1.project_id, 'deduped.xls')"
   ]
  },
  {
   "cell_type": "markdown",
   "metadata": {},
   "source": [
    "## Delete project"
   ]
  },
  {
   "cell_type": "code",
   "execution_count": 13,
   "metadata": {},
   "outputs": [
    {
     "name": "stdout",
     "output_type": "stream",
     "text": [
      "Project 1912905797111 has been successfully deleted\n"
     ]
    }
   ],
   "source": [
    "cli.delete(p1.project_id)"
   ]
  },
  {
   "cell_type": "markdown",
   "metadata": {},
   "source": [
    "## Advanced templating\n",
    "\n",
    "Create another project from the example file above"
   ]
  },
  {
   "cell_type": "code",
   "execution_count": 14,
   "metadata": {},
   "outputs": [
    {
     "name": "stdout",
     "output_type": "stream",
     "text": [
      "id: 2004697124065\n",
      "rows: 10\n"
     ]
    }
   ],
   "source": [
    "p2 = cli.create('duplicates.csv')"
   ]
  },
  {
   "cell_type": "markdown",
   "metadata": {},
   "source": [
    "The following example code will export the columns \"name\" and \"purchase\" in JSON format from the project \"advanced\" for rows matching the regex text filter ^F$ in column \"gender\""
   ]
  },
  {
   "cell_type": "code",
   "execution_count": 15,
   "metadata": {},
   "outputs": [
    {
     "name": "stdout",
     "output_type": "stream",
     "text": [
      "{ \"events\" : [\n",
      "    { \"name\" : \"Melanie White\", \"purchase\" : \"iPhone\" },\n",
      "    { \"name\" : \"Jean Griffith\", \"purchase\" : \"Power drill\" },\n",
      "    { \"name\" : \"Melanie White\", \"purchase\" : \"iPad\" }\n",
      "] }"
     ]
    }
   ],
   "source": [
    "cli.templating(p2.project_id,\n",
    "prefix='''{ \"events\" : [\n",
    "''',\n",
    "template='    { \"name\" : {{jsonize(cells[\"name\"].value)}}, \"purchase\" : {{jsonize(cells[\"purchase\"].value)}} }',\n",
    "rowSeparator=''',\n",
    "''',\n",
    "suffix='''\n",
    "] }''',\n",
    "filterQuery='^F$',\n",
    "filterColumn='gender')"
   ]
  },
  {
   "cell_type": "markdown",
   "metadata": {},
   "source": [
    "There is also an option to store the results in multiple files. Each file will contain the prefix, an processed row, and the suffix."
   ]
  },
  {
   "cell_type": "code",
   "execution_count": 16,
   "metadata": {},
   "outputs": [
    {
     "name": "stdout",
     "output_type": "stream",
     "text": [
      "Export to files complete. Last file: advanced_3.json\n"
     ]
    }
   ],
   "source": [
    "cli.templating(p2.project_id,\n",
    "prefix='''{ \"events\" : [\n",
    "''',\n",
    "template='    { \"name\" : {{jsonize(cells[\"name\"].value)}}, \"purchase\" : {{jsonize(cells[\"purchase\"].value)}} }',\n",
    "rowSeparator=''',\n",
    "''',\n",
    "suffix='''\n",
    "] }''',\n",
    "filterQuery='^F$',\n",
    "filterColumn='gender',\n",
    "output_file='advanced.json',\n",
    "splitToFiles=True)"
   ]
  },
  {
   "cell_type": "markdown",
   "metadata": {},
   "source": [
    "Filenames are suffixed with the row number by default (e.g. `advanced_1.json`, `advanced_2.json` etc.). There is another option to use the value in the first column instead:"
   ]
  },
  {
   "cell_type": "code",
   "execution_count": 17,
   "metadata": {},
   "outputs": [
    {
     "name": "stdout",
     "output_type": "stream",
     "text": [
      "Export to files complete. Last file: advanced_melanie.white@example2.edu.json\n"
     ]
    }
   ],
   "source": [
    "cli.templating(p2.project_id,\n",
    "prefix='''{ \"events\" : [\n",
    "''',\n",
    "template='    { \"name\" : {{jsonize(cells[\"name\"].value)}}, \"purchase\" : {{jsonize(cells[\"purchase\"].value)}} }',\n",
    "rowSeparator=''',\n",
    "''',\n",
    "suffix='''\n",
    "] }''',\n",
    "filterQuery='^F$',\n",
    "filterColumn='gender',\n",
    "output_file='advanced.json',\n",
    "splitToFiles=True,\n",
    "suffixById=True)"
   ]
  },
  {
   "cell_type": "markdown",
   "metadata": {},
   "source": [
    "Check the results in the current directory"
   ]
  },
  {
   "cell_type": "code",
   "execution_count": 18,
   "metadata": {},
   "outputs": [
    {
     "data": {
      "text/plain": [
       "['advanced_melanie.white@example2.edu.json',\n",
       " 'duplicates-deletion.json',\n",
       " 'advanced_1.json',\n",
       " 'duplicates.csv',\n",
       " 'advanced_2.json',\n",
       " 'advanced_3.json',\n",
       " 'advanced_jean.griffith@example5.org.json']"
      ]
     },
     "execution_count": 18,
     "metadata": {},
     "output_type": "execute_result"
    }
   ],
   "source": [
    "os.listdir(os.getcwd())"
   ]
  },
  {
   "cell_type": "markdown",
   "metadata": {},
   "source": [
    "Because our project \"advanced\" contains duplicates in the first column \"email\" this command will overwrite files (e.g. `advanced_melanie.white@example2.edu.json`). When using this option, the first column should contain unique identifiers."
   ]
  },
  {
   "cell_type": "markdown",
   "metadata": {},
   "source": [
    "## Delete project"
   ]
  },
  {
   "cell_type": "code",
   "execution_count": 19,
   "metadata": {},
   "outputs": [
    {
     "name": "stdout",
     "output_type": "stream",
     "text": [
      "Project 2004697124065 has been successfully deleted\n"
     ]
    }
   ],
   "source": [
    "cli.delete(p2.project_id)"
   ]
  },
  {
   "cell_type": "markdown",
   "metadata": {},
   "source": [
    "## Getting help"
   ]
  },
  {
   "cell_type": "code",
   "execution_count": 20,
   "metadata": {},
   "outputs": [
    {
     "name": "stdout",
     "output_type": "stream",
     "text": [
      "Help on module google.refine.cli in google.refine:\n",
      "\n",
      "NAME\n",
      "    google.refine.cli - Functions used by the command line interface (CLI)\n",
      "\n",
      "FILE\n",
      "    /srv/conda/envs/kernel/lib/python2.7/site-packages/google/refine/cli.py\n",
      "\n",
      "FUNCTIONS\n",
      "    apply(project_id, history_file)\n",
      "        Apply OpenRefine history from json file to project.\n",
      "    \n",
      "    create(project_file, project_format=None, columnWidths=None, encoding=None, guessCellValueTypes=False, headerLines=None, ignoreLines=None, includeFileSources=False, limit=None, linesPerRow=None, processQuotes=True, projectName=None, projectTags=None, recordPath=None, separator=None, sheets=None, skipDataLines=None, storeBlankCellsAsNulls=True, storeBlankRows=True, storeEmptyStrings=True, trimStrings=False)\n",
      "        Create a new project from file.\n",
      "    \n",
      "    delete(project_id)\n",
      "        Delete project.\n",
      "    \n",
      "    download(url, output_file=None)\n",
      "        Integrated download function for your convenience.\n",
      "    \n",
      "    export(project_id, encoding=None, output_file=None, export_format=None)\n",
      "        Dump a project to stdout or file.\n",
      "    \n",
      "    info(project_id)\n",
      "        Show project metadata\n",
      "    \n",
      "    ls()\n",
      "        Query the server and list projects sorted by mtime.\n",
      "    \n",
      "    templating(project_id, template, encoding='UTF-8', output_file=None, mode=None, prefix='', rowSeparator='\\n', suffix='', filterQuery=None, filterColumn=None, facets=None, splitToFiles=False, suffixById=None)\n",
      "        Dump a project to stdout or file with templating.\n",
      "\n",
      "\n"
     ]
    }
   ],
   "source": [
    "help(cli)"
   ]
  },
  {
   "cell_type": "markdown",
   "metadata": {},
   "source": [
    "Client and server can be executed on different machines. Host and port of the OpenRefine server can be specified:"
   ]
  },
  {
   "cell_type": "code",
   "execution_count": 21,
   "metadata": {},
   "outputs": [],
   "source": [
    "cli.refine.REFINE_HOST = 'localhost'\n",
    "cli.refine.REFINE_PORT = '3333'"
   ]
  },
  {
   "cell_type": "markdown",
   "metadata": {},
   "source": [
    "Please file an [issue](https://github.com/opencultureconsulting/openrefine-client/issues) if you miss some features in the command line interface or if you have tracked a bug. And you are welcome to ask any questions!"
   ]
  }
 ],
 "metadata": {
  "kernelspec": {
   "display_name": "Python 2",
   "language": "python",
   "name": "python2"
  },
  "language_info": {
   "codemirror_mode": {
    "name": "ipython",
    "version": 2
   },
   "file_extension": ".py",
   "mimetype": "text/x-python",
   "name": "python",
   "nbconvert_exporter": "python",
   "pygments_lexer": "ipython2",
   "version": "2.7.15"
  }
 },
 "nbformat": 4,
 "nbformat_minor": 2
}
