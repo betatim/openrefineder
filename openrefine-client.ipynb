{
 "cells": [
  {
   "cell_type": "markdown",
   "metadata": {},
   "source": [
    "# Preparations\n",
    "This binder has OpenRefine, openrefine-client and a Jupyter server proxy preinstalled. We need to start the OpenRefine server proxy by opening the urlpath `/openrefine`. It is a bit complicated doing it directly from this notebook but the following commands will do that for you:"
   ]
  },
  {
   "cell_type": "code",
   "execution_count": null,
   "metadata": {},
   "outputs": [],
   "source": [
    "notebook_url=\"$(jupyter notebook list | grep -o -E 'http\\S+')\"\n",
    "openrefine_url=\"${notebook_url/?token/openrefine?token}\"\n",
    "until wget -q -O - ${openrefine_url} | cat | grep -q -o \"OpenRefine\" ; do sleep 1; done"
   ]
  },
  {
   "cell_type": "markdown",
   "metadata": {},
   "source": [
    "For your convenience we compute the URL to the OpenRefine server (the graphical user interface is still available)..."
   ]
  },
  {
   "cell_type": "code",
   "execution_count": null,
   "metadata": {},
   "outputs": [],
   "source": [
    "openrefine_url=\"${openrefine_url/http:\\/\\/0.0.0.0:8888/https:\\/\\/hub.gke.mybinder.org}\"\n",
    "echo $openrefine_url"
   ]
  },
  {
   "cell_type": "markdown",
   "metadata": {},
   "source": [
    "... and we compute the URL to the Jupyter dashboard (where stored files can be found)"
   ]
  },
  {
   "cell_type": "code",
   "execution_count": null,
   "metadata": {},
   "outputs": [],
   "source": [
    "notebook_url=\"${notebook_url/http:\\/\\/0.0.0.0:8888/https:\\/\\/hub.gke.mybinder.org}\"\n",
    "echo $notebook_url"
   ]
  },
  {
   "cell_type": "markdown",
   "metadata": {},
   "source": [
    "We will store some files so it is clearer to use a new folder for each run"
   ]
  },
  {
   "cell_type": "code",
   "execution_count": null,
   "metadata": {
    "scrolled": true
   },
   "outputs": [],
   "source": [
    "workspace=$(date +%Y%m%d_%H%M%S)\n",
    "mkdir -p ~/$workspace && cd ~/$workspace\n",
    "echo \"${notebook_url/?token/tree\\/${workspace}?token}\""
   ]
  },
  {
   "cell_type": "markdown",
   "metadata": {},
   "source": [
    "# Execute openrefine-client\n",
    "The openrefine-client is pre-installed in ~./local/bin. Therefore you can execute the program by typing `openrefine-client`."
   ]
  },
  {
   "cell_type": "code",
   "execution_count": null,
   "metadata": {},
   "outputs": [],
   "source": [
    "openrefine-client"
   ]
  },
  {
   "cell_type": "markdown",
   "metadata": {},
   "source": [
    "# Create project"
   ]
  },
  {
   "cell_type": "markdown",
   "metadata": {},
   "source": [
    "Download sample data"
   ]
  },
  {
   "cell_type": "code",
   "execution_count": null,
   "metadata": {
    "scrolled": true
   },
   "outputs": [],
   "source": [
    "wget -nv https://github.com/felixlohmeier/openrefine-kimws2019/raw/master/doaj-article-sample.csv"
   ]
  },
  {
   "cell_type": "markdown",
   "metadata": {},
   "source": [
    "Importing file into OpenRefine"
   ]
  },
  {
   "cell_type": "code",
   "execution_count": null,
   "metadata": {},
   "outputs": [],
   "source": [
    "openrefine-client --create doaj-article-sample.csv"
   ]
  },
  {
   "cell_type": "markdown",
   "metadata": {},
   "source": [
    "# List projects"
   ]
  },
  {
   "cell_type": "code",
   "execution_count": null,
   "metadata": {},
   "outputs": [],
   "source": [
    "openrefine-client --list"
   ]
  },
  {
   "cell_type": "markdown",
   "metadata": {},
   "source": [
    "# Get metadata"
   ]
  },
  {
   "cell_type": "code",
   "execution_count": null,
   "metadata": {},
   "outputs": [],
   "source": [
    "openrefine-client --info \"doaj-article-sample\""
   ]
  },
  {
   "cell_type": "markdown",
   "metadata": {},
   "source": [
    "Save the project id (we will use that later to generate a link to your OpenRefine project)"
   ]
  },
  {
   "cell_type": "code",
   "execution_count": null,
   "metadata": {},
   "outputs": [],
   "source": [
    "projectid=\"$(openrefine-client --info \"doaj-article-sample\" | head -n 1 | cut -c 5-17)\"\n",
    "echo $projectid"
   ]
  },
  {
   "cell_type": "markdown",
   "metadata": {},
   "source": [
    "# Apply Transformations"
   ]
  },
  {
   "cell_type": "markdown",
   "metadata": {},
   "source": [
    "Download sample json file (the content of this file was previously extracted via Undo/Redo history in the OpenRefine graphical user interface)"
   ]
  },
  {
   "cell_type": "code",
   "execution_count": null,
   "metadata": {},
   "outputs": [],
   "source": [
    "wget -nv https://raw.githubusercontent.com/felixlohmeier/openrefine-kimws2019/master/doaj-openrefine.json"
   ]
  },
  {
   "cell_type": "markdown",
   "metadata": {},
   "source": [
    "Apply json file to project doaj-article-sample (this takes a few seconds)"
   ]
  },
  {
   "cell_type": "code",
   "execution_count": null,
   "metadata": {},
   "outputs": [],
   "source": [
    "time openrefine-client --apply doaj-openrefine.json \"doaj-article-sample\""
   ]
  },
  {
   "cell_type": "markdown",
   "metadata": {},
   "source": [
    "Check results in OpenRefine"
   ]
  },
  {
   "cell_type": "code",
   "execution_count": null,
   "metadata": {},
   "outputs": [],
   "source": [
    "project_url=\"${openrefine_url/openrefine?token/openrefine\\/project?project=${projectid}&token}\"\n",
    "echo \"$project_url\" "
   ]
  },
  {
   "cell_type": "markdown",
   "metadata": {},
   "source": [
    "# Export data"
   ]
  },
  {
   "cell_type": "markdown",
   "metadata": {},
   "source": [
    "Export in csv format"
   ]
  },
  {
   "cell_type": "code",
   "execution_count": null,
   "metadata": {},
   "outputs": [],
   "source": [
    "time openrefine-client --export \"doaj-article-sample\" --output=doaj-export.csv"
   ]
  },
  {
   "cell_type": "markdown",
   "metadata": {},
   "source": [
    "First record intentionally contains the full json dump from VIAF reconciliation service (this was a task in the lesson)"
   ]
  },
  {
   "cell_type": "code",
   "execution_count": null,
   "metadata": {},
   "outputs": [],
   "source": [
    "head -n 3 doaj-export.csv"
   ]
  },
  {
   "cell_type": "markdown",
   "metadata": {},
   "source": [
    "# Templating Export"
   ]
  },
  {
   "cell_type": "code",
   "execution_count": null,
   "metadata": {
    "scrolled": true
   },
   "outputs": [],
   "source": [
    "time openrefine-client --export \"doaj-article-sample\" \\\n",
    "--template=\"    { \\\"DOI\\\" : {{jsonize(cells[\\\"DOI\\\"].value)}}, \\\"Title\\\" : {{jsonize(cells[\\\"Title\\\"].value)}}, \\\"Authors\\\" : {{jsonize(cells[\\\"Authors\\\"].value.split(\\\"|\\\"))}} }\" \\\n",
    "--prefix=\"{ \\\"rows\\\" : [\n",
    "\" \\\n",
    "--rowSeparator=\",\n",
    "\" \\\n",
    "--suffix=\"\n",
    "    ] \n",
    "}\" \\\n",
    "> doaj-export.json"
   ]
  },
  {
   "cell_type": "code",
   "execution_count": null,
   "metadata": {
    "scrolled": true
   },
   "outputs": [],
   "source": [
    "head -n 3 doaj-export.json"
   ]
  },
  {
   "cell_type": "markdown",
   "metadata": {},
   "source": [
    "Templating export supports filter queries (e.g. only spanish language)"
   ]
  },
  {
   "cell_type": "code",
   "execution_count": null,
   "metadata": {},
   "outputs": [],
   "source": [
    "time openrefine-client --export \"doaj-article-sample\" \\\n",
    "--template=\"    { \\\"DOI\\\" : {{jsonize(cells[\\\"DOI\\\"].value)}}, \\\"Title\\\" : {{jsonize(cells[\\\"Title\\\"].value)}}, \\\"Authors\\\" : {{jsonize(cells[\\\"Authors\\\"].value.split(\\\"|\\\"))}} }\" \\\n",
    "--prefix=\"{ \\\"rows\\\" : [\n",
    "\" \\\n",
    "--rowSeparator=\",\n",
    "\" \\\n",
    "--suffix=\"\n",
    "    ] \n",
    "}\" \\\n",
    "--filterColumn=Language \\\n",
    "--filterQuery=ES \\\n",
    "> doaj-export-es.json"
   ]
  },
  {
   "cell_type": "code",
   "execution_count": null,
   "metadata": {},
   "outputs": [],
   "source": [
    "head -n 3 doaj-export-es.json"
   ]
  },
  {
   "cell_type": "markdown",
   "metadata": {},
   "source": [
    "And there is also an option to save all records to individual files"
   ]
  },
  {
   "cell_type": "code",
   "execution_count": null,
   "metadata": {},
   "outputs": [],
   "source": [
    "time openrefine-client --export \"doaj-article-sample\" \\\n",
    "--template=\"    { \\\"DOI\\\" : {{jsonize(cells[\\\"DOI\\\"].value)}}, \\\"Title\\\" : {{jsonize(cells[\\\"Title\\\"].value)}}, \\\"Authors\\\" : {{jsonize(cells[\\\"Authors\\\"].value.split(\\\"|\\\"))}} }\" \\\n",
    "--prefix=\"{ \\\"rows\\\" : [\n",
    "\" \\\n",
    "--rowSeparator=\",\n",
    "\" \\\n",
    "--suffix=\"\n",
    "    ] \n",
    "}\" \\\n",
    "--filterColumn=Language \\\n",
    "--filterQuery=ES \\\n",
    "--splitToFiles=true \\\n",
    "--output=doaj-export-es.json"
   ]
  },
  {
   "cell_type": "code",
   "execution_count": null,
   "metadata": {},
   "outputs": [],
   "source": [
    "ls"
   ]
  },
  {
   "cell_type": "markdown",
   "metadata": {},
   "source": [
    "Check results in Jupyter dashboard"
   ]
  },
  {
   "cell_type": "code",
   "execution_count": null,
   "metadata": {},
   "outputs": [],
   "source": [
    "echo \"${notebook_url/?token/tree\\/${workspace}?token}\""
   ]
  },
  {
   "cell_type": "markdown",
   "metadata": {},
   "source": [
    "# Delete project"
   ]
  },
  {
   "cell_type": "code",
   "execution_count": null,
   "metadata": {},
   "outputs": [],
   "source": [
    "time openrefine-client --delete \"doaj-article-sample\""
   ]
  },
  {
   "cell_type": "markdown",
   "metadata": {},
   "source": [
    "# Cleanup\n",
    "If something goes wrong (e.g. multiple projects with the same name) here is a shortcut to delete all existing projects in OpenRefine"
   ]
  },
  {
   "cell_type": "code",
   "execution_count": null,
   "metadata": {},
   "outputs": [],
   "source": [
    "openrefine-client --list > projects.tmp\n",
    "projectids=($(cut -c 2-14 \"projects.tmp\")) && rm projects.tmp\n",
    "for i in \"${projectids[@]}\" ; do\n",
    "    openrefine-client --delete $i\n",
    "done"
   ]
  },
  {
   "cell_type": "markdown",
   "metadata": {},
   "source": [
    "# Give me more\n",
    "Consult the help screen for further options"
   ]
  },
  {
   "cell_type": "code",
   "execution_count": null,
   "metadata": {},
   "outputs": [],
   "source": [
    "openrefine-client --help"
   ]
  },
  {
   "cell_type": "markdown",
   "metadata": {},
   "source": [
    "The [openrefine-client](https://github.com/opencultureconsulting/openrefine-client) is available as a one file executable for Windows, Mac OS and Linux. Client and server can be executed on different machines (host and port of the OpenRefine server can be specified, e.g. `-H 127.0.0.1 -P 80`."
   ]
  },
  {
   "cell_type": "code",
   "execution_count": null,
   "metadata": {},
   "outputs": [],
   "source": []
  }
 ],
 "metadata": {
  "kernelspec": {
   "display_name": "Bash",
   "language": "bash",
   "name": "bash"
  },
  "language_info": {
   "codemirror_mode": "shell",
   "file_extension": ".sh",
   "mimetype": "text/x-sh",
   "name": "bash"
  }
 },
 "nbformat": 4,
 "nbformat_minor": 2
}
